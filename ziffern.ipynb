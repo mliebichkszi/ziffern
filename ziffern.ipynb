{
 "cells": [
  {
   "cell_type": "code",
   "execution_count": null,
   "id": "3bac5c70-4553-4dd0-8d51-fcf8ef8d77ae",
   "metadata": {},
   "outputs": [],
   "source": [
    "from ai import *\n",
    "\n",
    "images = load_mnist_images('train')\n",
    "\n",
    "images[4].draw()\n",
    "print (images[0].label, images[1].label, images[2].label)\n",
    "draw_side_by_side(images[0], images[1], images[2])"
   ]
  }
 ],
 "metadata": {
  "kernelspec": {
   "display_name": "Python 3 (ipykernel)",
   "language": "python",
   "name": "python3"
  },
  "language_info": {
   "codemirror_mode": {
    "name": "ipython",
    "version": 3
   },
   "file_extension": ".py",
   "mimetype": "text/x-python",
   "name": "python",
   "nbconvert_exporter": "python",
   "pygments_lexer": "ipython3",
   "version": "3.9.7"
  }
 },
 "nbformat": 4,
 "nbformat_minor": 5
}

